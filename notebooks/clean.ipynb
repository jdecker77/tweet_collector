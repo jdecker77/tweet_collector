{
 "cells": [
  {
   "cell_type": "code",
   "execution_count": 1,
   "metadata": {},
   "outputs": [],
   "source": [
    "%run -i '../scripts/cleaning.py'"
   ]
  },
  {
   "cell_type": "code",
   "execution_count": null,
   "metadata": {},
   "outputs": [],
   "source": [
    "'''\n",
    "Enter month/days/sets/calls combination to select \n",
    "one or more sets of tweets to be returned as dataframe.\n",
    "\n",
    "0 < num_tweets >= 100\n",
    "\n",
    "'''\n",
    "month = 2\n",
    "days = [11,12,13,14,15,16,17]\n",
    "sets = [1,2,3,4,5,6]\n",
    "calls = [1,2,3,4,5]\n",
    "num_tweets = 25\n",
    "collection_type = 'ML'\n",
    "\n",
    "df = ExtractTweets(month,days,sets,calls,num_tweets,collection_type)\n",
    "\n",
    "df.head()"
   ]
  },
  {
   "cell_type": "code",
   "execution_count": null,
   "metadata": {},
   "outputs": [],
   "source": []
  }
 ],
 "metadata": {
  "kernelspec": {
   "display_name": "Python 3",
   "language": "python",
   "name": "python3"
  },
  "language_info": {
   "codemirror_mode": {
    "name": "ipython",
    "version": 3
   },
   "file_extension": ".py",
   "mimetype": "text/x-python",
   "name": "python",
   "nbconvert_exporter": "python",
   "pygments_lexer": "ipython3",
   "version": "3.6.8"
  }
 },
 "nbformat": 4,
 "nbformat_minor": 2
}
