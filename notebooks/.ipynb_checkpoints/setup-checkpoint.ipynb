{
 "cells": [
  {
   "cell_type": "code",
   "execution_count": 5,
   "metadata": {},
   "outputs": [],
   "source": [
    "%run -i '../scripts/collection.py'"
   ]
  },
  {
   "cell_type": "code",
   "execution_count": 6,
   "metadata": {},
   "outputs": [
    {
     "data": {
      "text/html": [
       "<div>\n",
       "<style scoped>\n",
       "    .dataframe tbody tr th:only-of-type {\n",
       "        vertical-align: middle;\n",
       "    }\n",
       "\n",
       "    .dataframe tbody tr th {\n",
       "        vertical-align: top;\n",
       "    }\n",
       "\n",
       "    .dataframe thead th {\n",
       "        text-align: right;\n",
       "    }\n",
       "</style>\n",
       "<table border=\"1\" class=\"dataframe\">\n",
       "  <thead>\n",
       "    <tr style=\"text-align: right;\">\n",
       "      <th></th>\n",
       "      <th>S1</th>\n",
       "      <th>S2</th>\n",
       "      <th>S3</th>\n",
       "      <th>S4</th>\n",
       "      <th>S5</th>\n",
       "      <th>S6</th>\n",
       "      <th>S7</th>\n",
       "      <th>S8</th>\n",
       "      <th>S9</th>\n",
       "      <th>S10</th>\n",
       "      <th>S11</th>\n",
       "      <th>S12</th>\n",
       "      <th>S13</th>\n",
       "      <th>S14</th>\n",
       "      <th>S15</th>\n",
       "    </tr>\n",
       "  </thead>\n",
       "  <tbody>\n",
       "    <tr>\n",
       "      <th>0</th>\n",
       "      <td>07:00:00</td>\n",
       "      <td>08:00:00</td>\n",
       "      <td>09:00:00</td>\n",
       "      <td>10:00:00</td>\n",
       "      <td>11:00:00</td>\n",
       "      <td>12:00:00</td>\n",
       "      <td>13:00:00</td>\n",
       "      <td>14:00:00</td>\n",
       "      <td>15:00:00</td>\n",
       "      <td>16:00:00</td>\n",
       "      <td>17:00:00</td>\n",
       "      <td>18:00:00</td>\n",
       "      <td>19:00:00</td>\n",
       "      <td>20:00:00</td>\n",
       "      <td>21:00:00</td>\n",
       "    </tr>\n",
       "  </tbody>\n",
       "</table>\n",
       "</div>"
      ],
      "text/plain": [
       "         S1        S2        S3        S4        S5        S6        S7  \\\n",
       "0  07:00:00  08:00:00  09:00:00  10:00:00  11:00:00  12:00:00  13:00:00   \n",
       "\n",
       "         S8        S9       S10       S11       S12       S13       S14  \\\n",
       "0  14:00:00  15:00:00  16:00:00  17:00:00  18:00:00  19:00:00  20:00:00   \n",
       "\n",
       "        S15  \n",
       "0  21:00:00  "
      ]
     },
     "execution_count": 6,
     "metadata": {},
     "output_type": "execute_result"
    }
   ],
   "source": [
    "schedule = pd.read_excel('../resources/schedule_B.xlsx')\n",
    "\n",
    "schedule"
   ]
  },
  {
   "cell_type": "code",
   "execution_count": 7,
   "metadata": {},
   "outputs": [],
   "source": [
    "month = 3\n",
    "day = 11\n",
    "MakeSets(month,day,schedule)"
   ]
  },
  {
   "cell_type": "code",
   "execution_count": 8,
   "metadata": {},
   "outputs": [
    {
     "name": "stdout",
     "output_type": "stream",
     "text": [
      "\n",
      "\n",
      "Number Sets: 15\n",
      "Number Calls: 1\n",
      "Current Call: 1\n",
      "\n",
      "\n",
      "Set: 1  Call: 1 Runtime: 2019-03-11 07:00:00\n",
      "Set: 2  Call: 2 Runtime: 2019-03-11 08:00:00\n",
      "Set: 3  Call: 3 Runtime: 2019-03-11 09:00:00\n",
      "Set: 4  Call: 4 Runtime: 2019-03-11 10:00:00\n",
      "Set: 5  Call: 5 Runtime: 2019-03-11 11:00:00\n",
      "Set: 6  Call: 6 Runtime: 2019-03-11 12:00:00\n",
      "Set: 7  Call: 7 Runtime: 2019-03-11 13:00:00\n",
      "Set: 8  Call: 8 Runtime: 2019-03-11 14:00:00\n",
      "Set: 9  Call: 9 Runtime: 2019-03-11 15:00:00\n",
      "Set: 10  Call: 10 Runtime: 2019-03-11 16:00:00\n",
      "Set: 11  Call: 11 Runtime: 2019-03-11 17:00:00\n",
      "Set: 12  Call: 12 Runtime: 2019-03-11 18:00:00\n",
      "Set: 13  Call: 13 Runtime: 2019-03-11 19:00:00\n",
      "Set: 14  Call: 14 Runtime: 2019-03-11 20:00:00\n",
      "Set: 15  Call: 15 Runtime: 2019-03-11 21:00:00\n"
     ]
    }
   ],
   "source": [
    "PreviewSchedule(11)"
   ]
  },
  {
   "cell_type": "code",
   "execution_count": null,
   "metadata": {},
   "outputs": [
    {
     "name": "stdout",
     "output_type": "stream",
     "text": [
      "skipping old runtime.\n",
      "skipping old runtime.\n",
      "skipping old runtime.\n",
      "skipping old runtime.\n",
      "skipping old runtime.\n",
      "skipping old runtime.\n",
      "Waiting 1780 seconds. Next Up set_7 1 2019-03-11 13:00:00\n"
     ]
    }
   ],
   "source": [
    "RunTimer(11)"
   ]
  },
  {
   "cell_type": "code",
   "execution_count": null,
   "metadata": {},
   "outputs": [],
   "source": []
  }
 ],
 "metadata": {
  "kernelspec": {
   "display_name": "Python 3",
   "language": "python",
   "name": "python3"
  },
  "language_info": {
   "codemirror_mode": {
    "name": "ipython",
    "version": 3
   },
   "file_extension": ".py",
   "mimetype": "text/x-python",
   "name": "python",
   "nbconvert_exporter": "python",
   "pygments_lexer": "ipython3",
   "version": "3.6.8"
  }
 },
 "nbformat": 4,
 "nbformat_minor": 2
}
