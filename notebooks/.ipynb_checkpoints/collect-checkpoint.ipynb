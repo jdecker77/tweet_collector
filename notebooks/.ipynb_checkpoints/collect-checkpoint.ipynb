{
 "cells": [
  {
   "cell_type": "code",
   "execution_count": 1,
   "metadata": {},
   "outputs": [],
   "source": [
    "%run -i '../scripts/schedule.py'"
   ]
  },
  {
   "cell_type": "code",
   "execution_count": 3,
   "metadata": {},
   "outputs": [],
   "source": [
    "'''\n",
    "Set start parameters\n",
    "'''\n",
    "\n",
    "year = 2019\n",
    "month = 5\n",
    "day = 18\n",
    "collection_interval = 1\n",
    "interval_identifier = \"ml_test_1\"\n",
    "\n",
    "schedule = pd.read_excel('../resources/schedule_b.xlsx')\n",
    "\n",
    "collection_type = 'ML'\n",
    "\n",
    "MakeSets(year,month,day,collection_interval,interval_identifier,schedule,collection_type)"
   ]
  },
  {
   "cell_type": "code",
   "execution_count": null,
   "metadata": {},
   "outputs": [],
   "source": [
    "PreviewSchedule(month,day)"
   ]
  },
  {
   "cell_type": "code",
   "execution_count": null,
   "metadata": {},
   "outputs": [],
   "source": [
    "# RunMLCollector(month,day)\n",
    "RunNWCollector(month,day)"
   ]
  },
  {
   "cell_type": "code",
   "execution_count": null,
   "metadata": {},
   "outputs": [],
   "source": []
  }
 ],
 "metadata": {
  "kernelspec": {
   "display_name": "Python 3",
   "language": "python",
   "name": "python3"
  },
  "language_info": {
   "codemirror_mode": {
    "name": "ipython",
    "version": 3
   },
   "file_extension": ".py",
   "mimetype": "text/x-python",
   "name": "python",
   "nbconvert_exporter": "python",
   "pygments_lexer": "ipython3",
   "version": "3.6.8"
  }
 },
 "nbformat": 4,
 "nbformat_minor": 2
}
