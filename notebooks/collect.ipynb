{
 "cells": [
  {
   "cell_type": "code",
   "execution_count": null,
   "metadata": {},
   "outputs": [],
   "source": [
    "%run -i '../scripts/schedule.py'"
   ]
  },
  {
   "cell_type": "code",
   "execution_count": null,
   "metadata": {},
   "outputs": [],
   "source": [
    "# Set location center point as Lat/Lon\n",
    "coords = [(49.25370483663613, -123.11278028823382)]"
   ]
  },
  {
   "cell_type": "code",
   "execution_count": null,
   "metadata": {},
   "outputs": [],
   "source": [
    "# Create a bounding box to gather tweets based on a single point and a buffer - start small ~ .1\n",
    "boundaries = GetBoundaries(coords,.1)"
   ]
  },
  {
   "cell_type": "code",
   "execution_count": null,
   "metadata": {},
   "outputs": [],
   "source": [
    "'''\n",
    "Set start parameters\n",
    "'''\n",
    "\n",
    "year = 2019\n",
    "month = 6\n",
    "day = 18\n",
    "collection_interval = 1\n",
    "interval_identifier = \"ml_test_1\"\n",
    "\n",
    "schedule = pd.read_excel('../resources/schedule_b.xlsx')\n",
    "\n",
    "collection_type = 'ML'\n",
    "\n",
    "MakeSets(year,month,day,collection_interval,interval_identifier,schedule,collection_type,boundaries)"
   ]
  },
  {
   "cell_type": "code",
   "execution_count": null,
   "metadata": {},
   "outputs": [],
   "source": [
    "PreviewSchedule(month,day)"
   ]
  },
  {
   "cell_type": "code",
   "execution_count": null,
   "metadata": {},
   "outputs": [],
   "source": [
    "# RunMLCollector(month,day)\n",
    "RunNWCollector(month,day)"
   ]
  },
  {
   "cell_type": "code",
   "execution_count": null,
   "metadata": {},
   "outputs": [],
   "source": [
    "# Get list of local places \n",
    "places = GetPlaces(coords)\n",
    "\n",
    "local_places = []\n",
    "for i in places['result']['places']:\n",
    "    local_places.append(i['name'])\n",
    "    print(i['name'])"
   ]
  },
  {
   "cell_type": "code",
   "execution_count": null,
   "metadata": {},
   "outputs": [],
   "source": [
    "# Temp - a listing of neighborhoods in Vancouver to replace above\n",
    "local_places = ['Arbutus Ridge',\n",
    "                'Central Business District',\n",
    "                'Dunbar-Southlands', \n",
    "                'Fairview',\n",
    "                'Grandview-Woodland',\n",
    "                'Hastings-Sunrise',\n",
    "                'Kensington-Cedar Cottage',\n",
    "                'Kerrisdale',\n",
    "                'Killarney',\n",
    "                'Kitsilano',\n",
    "                'Marpole',\n",
    "                'Mount Pleasant',\n",
    "                'Musqueam',\n",
    "                'Oakridge',\n",
    "                'Renfrew-Collingwood',\n",
    "                'Riley Park',\n",
    "                'Shaughnessy',\n",
    "                'South Cambie',\n",
    "                'Stanley Park',\n",
    "                'Strathcona',\n",
    "                'Sunset',\n",
    "                'Vancouver',\n",
    "                'Victoria-Fraserview',\n",
    "                'West End',\n",
    "                'West Point Grey']"
   ]
  },
  {
   "cell_type": "code",
   "execution_count": null,
   "metadata": {},
   "outputs": [],
   "source": [
    "RunNWCollector(month,day,localPlaces)"
   ]
  }
 ],
 "metadata": {
  "kernelspec": {
   "display_name": "Python 3",
   "language": "python",
   "name": "python3"
  },
  "language_info": {
   "codemirror_mode": {
    "name": "ipython",
    "version": 3
   },
   "file_extension": ".py",
   "mimetype": "text/x-python",
   "name": "python",
   "nbconvert_exporter": "python",
   "pygments_lexer": "ipython3",
   "version": "3.7.3"
  }
 },
 "nbformat": 4,
 "nbformat_minor": 2
}
